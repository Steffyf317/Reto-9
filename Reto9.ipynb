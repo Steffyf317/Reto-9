{
  "nbformat": 4,
  "nbformat_minor": 0,
  "metadata": {
    "colab": {
      "provenance": [],
      "authorship_tag": "ABX9TyOUM2QLKX1TsLHwYbFWcD4n",
      "include_colab_link": true
    },
    "kernelspec": {
      "name": "python3",
      "display_name": "Python 3"
    },
    "language_info": {
      "name": "python"
    }
  },
  "cells": [
    {
      "cell_type": "markdown",
      "metadata": {
        "id": "view-in-github",
        "colab_type": "text"
      },
      "source": [
        "<a href=\"https://colab.research.google.com/github/Steffyf317/Reto-9/blob/main/Reto9.ipynb\" target=\"_parent\"><img src=\"https://colab.research.google.com/assets/colab-badge.svg\" alt=\"Open In Colab\"/></a>"
      ]
    },
    {
      "cell_type": "code",
      "execution_count": 2,
      "metadata": {
        "colab": {
          "base_uri": "https://localhost:8080/"
        },
        "id": "XfjJcNxOYpZF",
        "outputId": "b853ec74-1fae-4c5b-f243-d6720f9f4979"
      },
      "outputs": [
        {
          "output_type": "stream",
          "name": "stdout",
          "text": [
            "Ingrese la cantidad de panes comprados 3\n",
            "Ingrese el número de bolsas de leche compradas 1\n",
            "Ingrese la cantidad de huevos comprados 4\n",
            "Ingrese la cifra del billete 5000\n",
            "La deuda es de 600 Pesos\n"
          ]
        }
      ],
      "source": [
        "# Mi mamá me manda a comprar P panes a 300 cada uno, M bolsas de leche a 3300 cada una y H huevos a 350 cada uno. Hacer un programa que me diga las vueltas (o lo que quedo debiendo) cuando me da un billete de B pesos\n",
        "if __name__ == \"__main__\":\n",
        "  P = int(input(\"Ingrese la cantidad de panes comprados \")) #pedir al usuario la cantidad de cosas compradas\n",
        "  M = int(input(\"Ingrese el número de bolsas de leche compradas \"))\n",
        "  H = int(input(\"Ingrese la cantidad de huevos comprados \"))\n",
        "  B = int(input(\"Ingrese la cifra del billete \"))\n",
        "  compra = (lambda x,y,z: (x*300 + y*3300 +z*350)) (P,M,H) #hacer la función anónima con parámetros y argumentos respectivamente\n",
        "  #establecer los condicionales dependiendo si la cantidad pagada es mayor, menor o igual a lo equivalente del precio total de cosas compradas e imprimir el que se cumpla\n",
        "  if B == compra:\n",
        "    print(\"No sobra nada ni se debe nada de dinero\")\n",
        "  elif B < compra:\n",
        "    deuda = abs(B-compra)\n",
        "    print(\"La deuda es de \" +str(deuda)+ \" Pesos\")\n",
        "  else:\n",
        "    vueltas = B-compra\n",
        "    print(\"Las vueltas son \" +str(vueltas)+ \" Pesos\")"
      ]
    },
    {
      "cell_type": "code",
      "source": [
        "# programa que utilice una función para calcular el valor de un préstamo C usando interés compuesto del i por n meses.\n",
        "if __name__ == \"__main__\":\n",
        "  C = int(input(\"Ingrese el valor solicitado para préstamo \")) #Pesos\n",
        "  i = float(input(\"Ingrese el valor decimal de la tasa de interés del préstamo \"))\n",
        "  n = int(input(\"Ingrese la cantidad de meses para pagar el préstamo \"))\n",
        "  capital_a_pagar = (lambda s,t,r: s*((1+t))**r) (C,i,n) #Formula (función anónima) del interes compuesto de manera anónima con parámetros y argumentos respectivos\n",
        "  print(\"El valor total del préstamo es de \" +str(capital_a_pagar)+ \" Pesos\")"
      ],
      "metadata": {
        "colab": {
          "base_uri": "https://localhost:8080/"
        },
        "id": "MWGMfi-3eNIh",
        "outputId": "9c951d0e-2368-407a-ffa0-9e0d0f1ffc9e"
      },
      "execution_count": 11,
      "outputs": [
        {
          "output_type": "stream",
          "name": "stdout",
          "text": [
            "Ingrese el valor solicitado para préstamo 20000000\n",
            "Ingrese el valor decimal de la tasa de interés del préstamo 0.1\n",
            "Ingrese la cantidad de meses para pagar el préstamo 12\n",
            "El valor total del préstamo es de 62768567.53442006 Pesos\n"
          ]
        }
      ]
    },
    {
      "cell_type": "code",
      "source": [
        "# Hacer un programa que diga el número total de personas que se han contagiado cuando pasen D días a partir de hoy, si el número de contagiados actuales es C. numero de contagiados se duplica cada dia\n",
        "if __name__ == \"__main__\":\n",
        "  C = int(input(\"Ingrese el número actual de contagiados \")) #valores pedidos al usuario\n",
        "  D = int(input(\"Ingrese el número de días de contagio a partir de hoy \"))\n",
        "  personas_contagiadas = (lambda x,y: x*(2)**y) (C,D) #formula (función anónima) basada en el crecimiento poblacional de bacterias, solo que aqui no se tiene en cuenta el euler sino la duplicacion de individuos contagiados\n",
        "  print (\"El número de personas contagiadas en \" +str(D)+ \" días es de \" +str(personas_contagiadas))"
      ],
      "metadata": {
        "colab": {
          "base_uri": "https://localhost:8080/"
        },
        "id": "Sbv4TqR-jVFd",
        "outputId": "11b4231f-3cb5-44ce-b190-1aba674daf5d"
      },
      "execution_count": 12,
      "outputs": [
        {
          "output_type": "stream",
          "name": "stdout",
          "text": [
            "Ingrese el número actual de contagiados 14\n",
            "Ingrese el número de días de contagio a partir de hoy 12\n",
            "El número de personas contagiadas en 12 días es de 57344\n"
          ]
        }
      ]
    },
    {
      "cell_type": "code",
      "source": [
        "# Diseñe una función que calcule la cantidad de carne de aves en kilos si se tienen N gallinas, M gallos y K pollitos cada uno pesando 6 kilos, 7 kilos y 1 kilo respectivamente.\n",
        "\n",
        "def cantidad_carne_aves(*args) -> int: #función con argumentos no definidos\n",
        "  kilos_carne: int = 0 #se inicia los argumentos en 0\n",
        "  for aves in args: #con los numeros guardados en la tupla, hacer:\n",
        "    kilos_carne = N*6 + M*7 + K*1\n",
        "  return kilos_carne\n",
        "if __name__ == \"__main__\":\n",
        "  N = int(input(\"Ingrese la cantidad de gallinas \")) #valores que serán guardados en la tupla\n",
        "  M = int(input(\"Ingrese la cantidad de gallos \"))\n",
        "  K = int(input(\"Ingrese la cantidad de pollitos \"))\n",
        "  print(\"La cantidad de carne de las aves es de \" +str(cantidad_carne_aves(N,M,K))+ \" kilos\")\n"
      ],
      "metadata": {
        "colab": {
          "base_uri": "https://localhost:8080/"
        },
        "id": "2ZF17ZvVvoaf",
        "outputId": "f830ea33-686c-4eaf-d93c-6c5fb55e54a0"
      },
      "execution_count": 20,
      "outputs": [
        {
          "output_type": "stream",
          "name": "stdout",
          "text": [
            "Ingrese la cantidad de gallinas 1\n",
            "Ingrese la cantidad de gallos 2\n",
            "Ingrese la cantidad de pollitos 3\n",
            "La cantidad de carne de las aves es de 23 kilos\n"
          ]
        }
      ]
    },
    {
      "cell_type": "code",
      "source": [
        "# función matemática para calcular el área y el perimetro carrito\n",
        "import math\n",
        "\n",
        "def calcular_area (*args) -> float: #función con argumentos no definidos\n",
        "  area_figura: int = 0 #se inicia los argumentos en 0\n",
        "  for medidas in args: #con los numeros guardados en la tupla, hacer:\n",
        "    area_figura = a*b + 2*(math.pi*r**2) #suma de las áreas\n",
        "  return area_figura\n",
        "\n",
        "def calcular_perimetro (*args) -> float: #función con argumentos no definidos\n",
        "  perimetro_figura: int = 0 #se inicia los argumentos en 0\n",
        "  for medidas in args: #con los numeros guardados en la tupla, hacer:\n",
        "    perimetro_figura = 2*a+2*b + 2*(2*math.pi*r) #suma de los perimetros\n",
        "  return perimetro_figura\n",
        "\n",
        "if __name__ == \"__main__\": #argumentos definidos\n",
        "  r = int(input(\"Ingrese el radio de los círculos \")) #radio de los círculos\n",
        "  a= int(input(\"Ingrese la altura del rectángulo \")) #altura del rectángulo\n",
        "  b= int(input(\"Ingrese la base del rectángulo \")) #base del rectángulo\n",
        "  print(\"El perimetro de la figura es \" +str(calcular_perimetro(r,a,b))+ \" y el area es \" +str(calcular_area(r,a,b)))"
      ],
      "metadata": {
        "colab": {
          "base_uri": "https://localhost:8080/"
        },
        "id": "FbXVZRUp-8bG",
        "outputId": "d99fbb5c-1201-45fb-b6f7-6c2c608d23b5"
      },
      "execution_count": 22,
      "outputs": [
        {
          "output_type": "stream",
          "name": "stdout",
          "text": [
            "Ingrese el radio de los círculos 2\n",
            "Ingrese la altura del rectángulo 4\n",
            "Ingrese la base del rectángulo 8\n",
            "El perimetro de la figura es 49.132741228718345 y el area es 57.132741228718345\n"
          ]
        }
      ]
    },
    {
      "cell_type": "code",
      "source": [
        "#area y volumen de la figura compuesta por un cono y una esfera\n",
        "import math\n",
        "\n",
        "def calcular_area_figura (*args) -> float: #función con argumentos no definidos\n",
        "  area_figura:int = 0 #se inicia los argumentos en 0\n",
        "  for medidas in args: #con los numeros guardados en la tupla, hacer:\n",
        "    area_figura = 4*math.pi*r1**2 + math.pi*r2*(r2+a) #suma de las areas de la esfera y del cono\n",
        "  return area_figura\n",
        "\n",
        "def calcular_volumen_figura(*args) -> float: #función con argumentos no definidos\n",
        "  volumen_figura:int = 0 #se inicia los argumentos en 0\n",
        "  for medidas in args: #con los numeros guardados en la tupla, hacer:\n",
        "    volumen_figura = (4/3)*math.pi*r1**3 + (1/3)*math.pi*r2**2*h #Suma de los volúmenes de la esfera y el cono respectivamente\n",
        "  return volumen_figura\n",
        "\n",
        "if __name__ == \"__main__\": #argumentos definidos por el usuario\n",
        "  r1 = int(input(\"Ingrese el radio de la esfera \"))\n",
        "  r2= int(input(\"Ingrese el radio de la base del cono \"))\n",
        "  h= int(input(\"Ingrese la altura del cono \"))\n",
        "  a: float = (h**2+r2**2)**(0.5)\n",
        "  print(\"El área de la figura es \" + str(calcular_area_figura(r1,r2,h)) + \" y el volumen es \" +str(calcular_volumen_figura(r1,r2,h)))"
      ],
      "metadata": {
        "colab": {
          "base_uri": "https://localhost:8080/"
        },
        "id": "Zvz_Z5spFt5k",
        "outputId": "fd692daf-bc45-4b3d-c218-74a78b5cd84f"
      },
      "execution_count": 23,
      "outputs": [
        {
          "output_type": "stream",
          "name": "stdout",
          "text": [
            "Ingrese el radio de la esfera 4\n",
            "Ingrese el radio de la base del cono 5\n",
            "Ingrese la altura del cono 8\n",
            "El área de la figura es 427.79037526236027 y el volumen es 477.5220833456485\n"
          ]
        }
      ]
    },
    {
      "cell_type": "code",
      "source": [
        "# función recursiva para calcular la operación de la potencia.\n",
        "def potencia (base, n) -> int: #establecer una función que depende de dos valores\n",
        "  if n == 0: #caso base\n",
        "    return 1\n",
        "  else: #condición de la función recursiva\n",
        "    return base*potencia(base, n-1)\n",
        "\n",
        "if __name__ == \"__main__\":\n",
        "  base = int(input(\"Ingrese una base numérica \"))\n",
        "  n = int(input(\"Ingrese un exponente de la base \"))\n",
        "  potencia_calculada = potencia(base,n)\n",
        "  print(str(base)+ \" elevado a la \" +str(n)+ \" es igual a \" +str(potencia_calculada))"
      ],
      "metadata": {
        "colab": {
          "base_uri": "https://localhost:8080/"
        },
        "id": "6toNKGqeIHND",
        "outputId": "6e415fda-3303-4487-a90e-27fd0fd10506"
      },
      "execution_count": 1,
      "outputs": [
        {
          "output_type": "stream",
          "name": "stdout",
          "text": [
            "Ingrese una base numérica 5\n",
            "Ingrese un exponente de la base 4\n",
            "5 elevado a la 4 es igual a 625\n"
          ]
        }
      ]
    },
    {
      "cell_type": "code",
      "source": [
        "import time\n",
        "\n",
        "def fibonacci(n:int) -> int: #definir la función\n",
        "  # Caso base\n",
        "  if n <= 1:\n",
        "    return n\n",
        "  else:\n",
        "    #Condicion\n",
        "    return fibonacci(n-1) + fibonacci(n-2)\n",
        "\n",
        "\n",
        "start_time = time.time() #marca el inicio del código donde se quiere medir el tiempo de ejecución\n",
        "fibonacci(41) #línea de código a la cual se le quiere medir el tiempo de ejecución, se estableció en 41 porque es el n en el que se demora de manera significativa (más de un minuto)\n",
        "end_time = time.time()  #marca el final del código al cual se le quiere medir el tiempo de ejecución\n",
        "\n",
        "timer = end_time - start_time #variable que guarda el tiempo de ejecución\n",
        "\n",
        "print(\"El tiempo de ejecución es de \" +str(timer)+ \" segundos\")"
      ],
      "metadata": {
        "colab": {
          "base_uri": "https://localhost:8080/"
        },
        "id": "CgBCXcvWUG7Q",
        "outputId": "b6c65111-357c-46d0-d4d1-a8f4f23c1bbd"
      },
      "execution_count": 83,
      "outputs": [
        {
          "output_type": "stream",
          "name": "stdout",
          "text": [
            "El tiempo de ejecución es de 73.2186987400055 segundos\n"
          ]
        }
      ]
    }
  ]
}